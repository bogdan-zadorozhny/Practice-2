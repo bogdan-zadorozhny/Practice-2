{
  "nbformat": 4,
  "nbformat_minor": 0,
  "metadata": {
    "colab": {
      "name": "Practice_7_KM-01_.ipynb",
      "provenance": [],
      "collapsed_sections": []
    },
    "kernelspec": {
      "name": "python3",
      "display_name": "Python 3.8.5 32-bit",
      "metadata": {
        "interpreter": {
          "hash": "502944053e1cd4fd6db058bc02969f029cb93a277792545b49ef471dd358d8f0"
        }
      }
    }
  },
  "cells": [
    {
      "cell_type": "markdown",
      "metadata": {
        "id": "FMqboNwO4rVs"
      },
      "source": [
        "# **Курс \"Програмування на мові Python\"**\n",
        "\n",
        "##### Викладачі:\n",
        "##### Борисенко Павло Борисович\n",
        "##### Щьоголєв Максим Олегович\n"
      ]
    },
    {
      "cell_type": "markdown",
      "metadata": {
        "id": "A2T6MigL5Z06"
      },
      "source": [
        "## **Практичне зайняття №8**\n",
        "\n",
        "### Тема: \"Робота з функціями. Локальні та глобальні змінні\""
      ]
    },
    {
      "cell_type": "markdown",
      "metadata": {
        "id": "cfCdgK2zXm7e"
      },
      "source": [
        "### **Завдання 1 (3 бали)**\n",
        "\n",
        "**Підрахувати визначник матриці, використовуючи правило перестановок.**\n",
        "\n",
        "Функція random_matrix() призначена для створення квадратної матриці випадкових чисел. Її змінювати непотрібно.\n",
        "\n",
        "Приклад використання методу permutations() для створення списку перестановок також подається у комірці з кодом.\n",
        "\n",
        "1) Створити 3 функції: функцію створення списку перестановок, функцію підрахунку добутків та функцію підрахунку загальної суми.\n",
        "\n",
        "2) Кожна функція має супроводжуватись рядком документації, що буде коротко описувати її призначення.\n",
        "\n",
        "3) Розмірність квадратної матриці має вводитись користувачем з клавіатури. Підрахунки виконувати лише в тому разі, якщо користувач введе ціле додатне число.\n",
        "\n",
        "4) Загальний результат повинен підраховуватись за допомогою композиції функцій.\n",
        "\n",
        "За бажання можна перевірити правильність роботи програми за допомогою функції np.linalg.det(a)."
      ]
    },
    {
      "cell_type": "code",
      "metadata": {
        "id": "ifNX2M7LXm7f"
      },
      "source": [
        "import numpy as np\n",
        "import itertools\n",
        "\n",
        "def random_matrix(dim):\n",
        "    \"\"\"\n",
        "    The function generates dim x dim array of integers\n",
        "    between 0 and 10.\n",
        "    \"\"\"\n",
        "    matrix = np.random.randint(10, size = (dim, dim))\n",
        "    return matrix\n",
        "\n",
        "def permutations(matrix):\n",
        "    \"\"\"\n",
        "    The function generates list of possible permutations \n",
        "    for a matrix.\n",
        "    \"\"\"\n",
        "    t = list(itertools.permutations(range(len(matrix))))\n",
        "    return t\n",
        "\n",
        "def permutation_multiplication(matrix, permutation):\n",
        "    \"\"\"\n",
        "    The function generates a multiplication of permutation.\n",
        "    \"\"\"\n",
        "    multiplication = 1\n",
        "    for i in range(len(permutation)):\n",
        "        multiplication *= matrix[i][permutation[i]]\n",
        "    return multiplication\n",
        "\n",
        "def determinant(matrix):\n",
        "    \"\"\"\n",
        "    The function generates a sum of all members of determinant.\n",
        "    \"\"\"\n",
        "    determinant = 0\n",
        "    permutations_amount = 0\n",
        "    for permutation in permutations(matrix):\n",
        "        for i in permutation:\n",
        "            for j in permutation:\n",
        "                if i < j and permutation.index(i) > permutation.index(j):\n",
        "                    permutations_amount +=1\n",
        "        sign = (-1)**permutations_amount\n",
        "        determinant += sign * permutation_multiplication(matrix, permutation)\n",
        "    return determinant\n",
        "\n",
        "while True:\n",
        "    try:\n",
        "        dim = int(input(\"Enter a size of matrix: \"))\n",
        "        if dim == 0:\n",
        "            print(\"You have to enter an integer number! Not a zero!\")\n",
        "            break\n",
        "        else:\n",
        "            matrix = random_matrix(dim)\n",
        "            print(\"Created matrix:\", *matrix, sep=\"\\n\")\n",
        "            print(\"Determinant of matrix:\", determinant(matrix), end=\".\")\n",
        "            break\n",
        "    except ValueError:\n",
        "        print(\"You have to enter an integer number!\")\n",
        "        break"
      ],
      "execution_count": 1,
      "outputs": []
    }
  ]
}