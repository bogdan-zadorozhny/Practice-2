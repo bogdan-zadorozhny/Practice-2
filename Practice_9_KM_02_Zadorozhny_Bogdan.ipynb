{
  "nbformat": 4,
  "nbformat_minor": 0,
  "metadata": {
    "colab": {
      "name": "Practice_7_KM-01_.ipynb",
      "provenance": [],
      "collapsed_sections": []
    },
    "kernelspec": {
      "name": "python3",
      "display_name": "Python 3.8.5 32-bit",
      "metadata": {
        "interpreter": {
          "hash": "502944053e1cd4fd6db058bc02969f029cb93a277792545b49ef471dd358d8f0"
        }
      }
    }
  },
  "cells": [
    {
      "cell_type": "markdown",
      "metadata": {
        "id": "FMqboNwO4rVs"
      },
      "source": [
        "# **Курс \"Програмування на мові Python\"**\n",
        "\n",
        "##### Викладачі:\n",
        "##### Борисенко Павло Борисович\n",
        "##### Щьоголєв Максим Олегович\n"
      ]
    },
    {
      "cell_type": "markdown",
      "metadata": {
        "id": "A2T6MigL5Z06"
      },
      "source": [
        "## **Практичне зайняття №9**\n",
        "\n",
        "### Тема: \"Лямбда-функції. Функції вищих порядків\""
      ]
    },
    {
      "cell_type": "markdown",
      "metadata": {
        "id": "cfCdgK2zXm7e"
      },
      "source": [
        "### **Завдання 1 (1 бал)**\n",
        "\n",
        "Продавець роздрібного товару влаштовує розпродаж. Для всіх товарів знижка однакова - 60%. Щоб вивісити нові цінники, продавець хоче скласти таблицю, в якій для кожного товару буде підрахована його нова вартість та сума знижки.\n",
        "\n",
        "Написати програму, яка буде генерувати таку таблицю. Вартість одиниць товарів до розпродажу подано у списку products_list. \n",
        "\n",
        "1. Для підрахунку невідомих значень повинні використовуватись вбудовані функції вищих порядків.\n",
        "\n",
        "2. Вартість з урахуванням знижки та суми знижок для кожного товару повинні зберігатись у двох окремих списках. Порядок товарів у нових списках повинен бути такий самий, як і в списку products_list.\n",
        "\n",
        "3. Кожне підраховане числове значення має бути округлене до сотих.\n",
        "\n",
        "4. Дані повинні виводитись у вигляді:\n",
        "\n",
        "**Discount table:**\n",
        "\n",
        "**29.25 11.7 17.55**\n",
        "\n",
        "**48.99 19.6 29.39**\n",
        "\n",
        "**...**\n",
        "\n",
        "\n",
        "products_list = [[29.25, 48.99, 99.98, 124.65, 214.30, 543.90, 799.85]]\n"
      ]
    },
    {
      "cell_type": "code",
      "metadata": {
        "id": "ifNX2M7LXm7f"
      },
      "source": [
        "products_list = [29.25, 48.99, 99.98, 124.65, 214.30, 543.90, 799.85]\n",
        "\n",
        "def new_price(list1):\n",
        "    def multiply(i):\n",
        "        i = round(i * 0.4, 2)\n",
        "        return i\n",
        "    new_price = list(map(multiply, list1))\n",
        "    return new_price\n",
        "\n",
        "def discount(list1):\n",
        "    def multiply(i):\n",
        "        i = round(i * 0.6, 2)\n",
        "        return i\n",
        "    discount = list(map(multiply, list1))\n",
        "    return discount\n",
        "\n",
        "def table(i):\n",
        "    print('{:<6}'.format(products_list[i]), '{:<6}'.format(new_price(products_list)[i]), '{:<6}'.format(discount(products_list)[i]))\n",
        "\n",
        "numbers = list(range(0, len(products_list)))\n",
        "print(\"Discount table:\")\n",
        "list(map(table,numbers))\n",
        "table = []"
      ],
      "execution_count": 25,
      "outputs": [
        {
          "output_type": "stream",
          "name": "stdout",
          "text": [
            "Discount table:\n29.25  11.7   17.55 \n48.99  19.6   29.39 \n99.98  39.99  59.99 \n124.65 49.86  74.79 \n214.3  85.72  128.58\n543.9  217.56 326.34\n799.85 319.94 479.91\n"
          ]
        }
      ]
    },
    {
      "source": [
        "### **Завдання 2 (2 бали)**\n",
        "\n",
        "Зазвичай рік має 365 днів. Однак у високосні роки додається ще один день - 29 лютого. Правила визначення високосного року такі:\n",
        "\n",
        "- Будь-який рік, що ділиться на 400 - високосний.\n",
        "\n",
        "- З тих років, що залишились, будь-який рік, що ділиться на 100 - **не** високосний.\n",
        "\n",
        "- З тих років, що залишились, будь-який рік, що ділиться на 4 - високосний.\n",
        "\n",
        "- Усі інші роки, що залишились - **не** високосні.\n",
        "\n",
        "1) Створіть функцію, в якій за допомогою вбудованих функцій вищих порядків будуть визначатися високосні роки серед перелічених років у списку years. Створена функція має повертати список високосних років.\n",
        "\n",
        "2) Створіть функцію вищих порядків, яка прийматиме на вхід попередню функцію та визначатиме кількість днів у місяці. Також функція повинна приймати на вхід ще 2 параметри: ціле число від 1 до 12 (місяць) та рік, як ціле чотирицифрове число. Ці значення корисувач має вводити з клавіатури. Перевірку введених даних слід виконувати поза межами функцій."
      ],
      "cell_type": "markdown",
      "metadata": {}
    },
    {
      "cell_type": "code",
      "execution_count": 27,
      "metadata": {},
      "outputs": [
        {
          "output_type": "stream",
          "name": "stdout",
          "text": [
            "Leap years from 1900 to 2020:\n",
            "1904, 1908, 1912, 1916, 1920, 1924, 1928, 1932, 1936, 1940, 1944, 1948, 1952, 1956, 1960, 1964, 1968, 1972, 1976, 1980, 1984, 1988, 1992, 1996, 2000, 2004, 2008, 2012, 2016, 2020.\n",
            "Number of days in the 4 month, 2003 is 30."
          ]
        }
      ],
      "source": [
        "import numpy as np\n",
        "\n",
        "years = np.arange(1900, 2020+1, 1)\n",
        "years_list = list(years)\n",
        "\n",
        "def leap_year_check(i):\n",
        "    i = years_list[i]\n",
        "    if i % 400 == 0:\n",
        "        return i\n",
        "    else:\n",
        "        if i % 100 != 0 and i % 4 == 0:\n",
        "                return i\n",
        "\n",
        "def list_append(i):\n",
        "    return years_list[i]\n",
        "\n",
        "def leap_years(years):\n",
        "    numbers = range(0,len(years))\n",
        "    leap_numbers = list(filter(leap_year_check, numbers))\n",
        "    leap_years = list(map(list_append,leap_numbers))\n",
        "    return leap_years \n",
        "\n",
        "def month_days(function, year, month):\n",
        "    if month == 4 or month == 6 or month == 9 or month == 11:\n",
        "        days = 30\n",
        "    elif month == 2:\n",
        "        if year in function:\n",
        "            days = 29\n",
        "        else:\n",
        "            days = 28\n",
        "    else:\n",
        "        days = 31\n",
        "    return days\n",
        "\n",
        "print(\"Leap years from 1900 to 2020:\")\n",
        "print(*leap_years(years_list), sep=\", \", end=\".\\n\")\n",
        "year = int(input(\"Enter a year: \"))\n",
        "month = int(input(\"Enter a month number: \"))\n",
        "print(\"Number of days in the\", month,\"month,\", year, \"is\", month_days(leap_years(years), year, month), end=\".\")"
      ]
    }
  ]
}