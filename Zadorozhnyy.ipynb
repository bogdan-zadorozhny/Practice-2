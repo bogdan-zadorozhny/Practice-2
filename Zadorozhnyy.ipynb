{
  "nbformat": 4,
  "nbformat_minor": 0,
  "metadata": {
    "colab": {
      "name": "Pranctice_3_KM-01_<name>.ipynb",
      "provenance": [],
      "collapsed_sections": []
    },
    "kernelspec": {
      "name": "python3",
      "display_name": "Python 3.8.5 32-bit",
      "metadata": {
        "interpreter": {
          "hash": "502944053e1cd4fd6db058bc02969f029cb93a277792545b49ef471dd358d8f0"
        }
      }
    }
  },
  "cells": [
    {
      "cell_type": "markdown",
      "metadata": {
        "id": "1bRxWHr5e8kt"
      },
      "source": [
        "# **Курс \"Програмування на мові Python\"**\n",
        "\n",
        "##### Викладачі:\n",
        "##### Борисенко Павло Борисович\n",
        "##### Щьоголєв Максим Олегович"
      ]
    },
    {
      "cell_type": "markdown",
      "metadata": {
        "id": "buZUwUgFe-kx"
      },
      "source": [
        "## **Практичне зайняття №3**\n",
        "### Тема: \"Перші програми на Python. Введення та виведення даних. Інструкція if\""
      ]
    },
    {
      "cell_type": "markdown",
      "metadata": {
        "id": "WmnpKrmPf689"
      },
      "source": [
        "### **Завдання 1 (0,8 бала)**"
      ]
    },
    {
      "cell_type": "markdown",
      "metadata": {
        "id": "4n4p_pz7gFKM"
      },
      "source": [
        "Таблиця містить магнітуду землетрусів за шкалою Ріхтера та дескриптори, що їй відповідають.\n",
        "\n",
        "Магнітуда | Дескриптор\n",
        "--- | ---\n",
        "Менше, ніж 2 | Micro\n",
        "Від 2 до менше ніж 3 | Very minor\n",
        "Від 3 до менше ніж 4 | Minor\n",
        "Від 4 до менше ніж 5 | Light\n",
        "Від 5 до менше ніж 6 | Moderate\n",
        "Від 6 до менше ніж 7 | Strong\n",
        "Від 7 до менше ніж 8 | Major\n",
        "Від 8 до менше ніж 10 | Great\n",
        "10 та більше | Meteoric\n",
        "\n",
        "Напишіть програму, яка буде зчитувати магнітуду, введену користувачем, та виводити відповідний дескриптор як частину змістовного повідомлення. Наприклад, якщо користувач вводить 5.5, ваша програма повинна показати, що землетрус з такою магнітудою є помірним (moderate)."
      ]
    },
    {
      "cell_type": "code",
      "metadata": {
        "id": "Nv66Jkkpf-sI"
      },
      "source": [
        "def check_float(msg):\n",
        "    try:\n",
        "        el = float(input(msg))\n",
        "    except ValueError:\n",
        "        print('You have to enter a positive float number.')\n",
        "        return check_float(msg)\n",
        "    return el\n",
        "\n",
        "def check_descriptor(magnitude):\n",
        "    if magnitude < 2:\n",
        "        descriptor = 'micro'\n",
        "    elif 2 <= magnitude < 3:\n",
        "        descriptor = 'very minor'\n",
        "    elif 3 <= magnitude < 4:\n",
        "        descriptor = 'minor'\n",
        "    elif 4 <= magnitude < 5:\n",
        "        descriptor = 'light'\n",
        "    elif 5 <= magnitude < 6:\n",
        "        descriptor = 'moderate'\n",
        "    elif 6 <= magnitude < 7:\n",
        "        descriptor = 'strong'\n",
        "    elif 7 <= magnitude < 8:\n",
        "        descriptor = 'major'\n",
        "    elif 8 <= magnitude < 10:\n",
        "        descriptor = 'great'\n",
        "    else:\n",
        "        descriptor = 'Meteoric'\n",
        "    print(f\"According to the Richter scale, a descriptor with the earthquake magnitude {magnitude} is {descriptor}.\")\n",
        "\n",
        "magnitude = check_float(\"Enter an earthquake magnitude: \")\n",
        "check_descriptor(magnitude)"
      ],
      "execution_count": 1,
      "outputs": [
        {
          "output_type": "stream",
          "name": "stdout",
          "text": [
            "According to the Richter scale, a descriptor with the earthquake magnitude 5.5 is moderate.\n"
          ]
        }
      ]
    },
    {
      "cell_type": "markdown",
      "metadata": {
        "id": "X8fC_GM_nMRi"
      },
      "source": [
        "### **Завдання 2 (0,8 бала)**"
      ]
    },
    {
      "cell_type": "markdown",
      "metadata": {
        "id": "b593txPwotgN"
      },
      "source": [
        "Часто говорять, що один календарний рік еквівалентний 7 рокам для собаки. Однак таке просте перетворення не враховує того, що собаки досягають повноліття приблизно у 2 роки. Тому деякі люди вважать, що краще рахувати кожен з перших двох календарних років як 10,5 років для собаки, а потім рахувати кожен наступний календарний рік як 4 роки для собаки.\n",
        "\n",
        "Напишіть програму, яка конвертує календарні роки у \"собачі\", як було показано в попередньому абзаці. Переконайтесь, що ваша програма працює правильно, конвертуючи перші два календарні роки та всі подальші. Ваша програма також повинна виводити повідомлення про помилку, якщо користувач введе від'ємне число."
      ]
    },
    {
      "cell_type": "code",
      "metadata": {
        "id": "PA_E_H0Zosu0"
      },
      "source": [
        "def check_float(msg):\n",
        "    try:\n",
        "        el = float(input(msg))\n",
        "        if el < 0:\n",
        "            raise ValueError\n",
        "    except ValueError:\n",
        "        print('You have to enter a positive float number.')\n",
        "        return check_float(msg)\n",
        "    return el\n",
        "\n",
        "def dog_age(years):\n",
        "    if years > 2:\n",
        "        dog_age = (years - 2) * 4 + 2 * 10.5\n",
        "    else:\n",
        "        dog_age = years * 10.5\n",
        "    print(f\"{years} calendar years is equal to {round(dog_age, 2)} dog years.\")\n",
        "\n",
        "years = check_float(\"Enter a number of calendar years: \")\n",
        "dog_age(years)"
      ],
      "execution_count": 2,
      "outputs": [
        {
          "output_type": "stream",
          "name": "stdout",
          "text": [
            "4.0 calendar years is equal to 29.0 dog years.\n"
          ]
        }
      ]
    }
  ]
}